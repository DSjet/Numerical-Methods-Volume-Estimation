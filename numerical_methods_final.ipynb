{
 "cells": [
  {
   "attachments": {},
   "cell_type": "markdown",
   "metadata": {},
   "source": [
    "# Numerical Methods Final Project: Object Volume Determination through Picture Analysis\n",
    "\n",
    "## Introduction\n",
    "\n",
    "Welcome to our Numerical Methods Final Project, where we try to determine object volume through picture analysis using numerical methods. In this project, we aim to develop a computational approach to estimate the volume of three-dimensional objects based on their two-dimensional images. By leveraging various numerical techniques, we can estimate the volume of an object.\n",
    "\n",
    "## Team Members\n",
    "\n",
    "1. **Putu Arva Raysendriya Ersuputra** - 21/472606/PA/20312\n",
    "\n",
    "2. **Antonius Teddy Kurniawan** - 21/472874/PA/20352\n",
    "\n",
    "3. **Peter Johan Arkadhira Setiabudi** - 21/475025/PA/20510\n",
    "\n",
    "4. **Henzel Theodore Putra** -21/475040/PA/20516 "
   ]
  },
  {
   "attachments": {},
   "cell_type": "markdown",
   "metadata": {},
   "source": [
    "### Import Necessary Library"
   ]
  },
  {
   "cell_type": "code",
   "execution_count": null,
   "metadata": {},
   "outputs": [],
   "source": [
    "from PIL import Image"
   ]
  },
  {
   "attachments": {},
   "cell_type": "markdown",
   "metadata": {},
   "source": [
    "### Define Necessary Functions"
   ]
  },
  {
   "cell_type": "code",
   "execution_count": null,
   "metadata": {},
   "outputs": [],
   "source": [
    "def grayscale(image):\n",
    "    # Convert the image to grayscale\n",
    "    return image.convert('L')"
   ]
  },
  {
   "cell_type": "code",
   "execution_count": null,
   "metadata": {},
   "outputs": [],
   "source": [
    "def bilinear_interpolation(image, x, y):\n",
    "    width, height = image.size\n",
    "\n",
    "    if x < 0 or x >= width or y < 0 or y >= height:\n",
    "        return 0\n",
    "\n",
    "    x1, y1 = int(x), int(y)\n",
    "    x2, y2 = x1 + 1, y1 + 1\n",
    "\n",
    "    p11 = image.getpixel((x1, y1))\n",
    "    p12 = image.getpixel((x1, y2))\n",
    "    p21 = image.getpixel((x2, y1))\n",
    "    p22 = image.getpixel((x2, y2))\n",
    "\n",
    "    value = (p11 * (x2 - x) * (y2 - y) +\n",
    "             p21 * (x - x1) * (y2 - y) +\n",
    "             p12 * (x2 - x) * (y - y1) +\n",
    "             p22 * (x - x1) * (y - y1))\n",
    "\n",
    "    return value"
   ]
  },
  {
   "cell_type": "code",
   "execution_count": null,
   "metadata": {},
   "outputs": [],
   "source": [
    "def central_difference(image):\n",
    "    width, height = image.size\n",
    "    \n",
    "    # Create an empty output image\n",
    "    output = Image.new('L', (width, height))\n",
    "    \n",
    "    # Apply central difference to compute the gradients\n",
    "    for x in range(1, width - 2):\n",
    "        for y in range(1, height - 2):\n",
    "            # Compute sub-pixel position within the image\n",
    "            sub_x = x + 0.5\n",
    "            sub_y = y + 0.5\n",
    "            \n",
    "            # Compute the x and y gradients using bilinear interpolation\n",
    "            dx = bilinear_interpolation(image, sub_x + 1, sub_y) - bilinear_interpolation(image, sub_x - 1, sub_y)\n",
    "            dy = bilinear_interpolation(image, sub_x, sub_y + 1) - bilinear_interpolation(image, sub_x, sub_y - 1)\n",
    "            \n",
    "            # Compute the gradient magnitude\n",
    "            magnitude = abs((dx * 2 + dy * 2) ** 0.5)\n",
    "            \n",
    "            # Set the pixel value in the output image\n",
    "            output.putpixel((x, y), int(magnitude))\n",
    "    \n",
    "    return output"
   ]
  },
  {
   "attachments": {},
   "cell_type": "markdown",
   "metadata": {},
   "source": [
    "#### Load the image"
   ]
  },
  {
   "cell_type": "code",
   "execution_count": null,
   "metadata": {},
   "outputs": [],
   "source": [
    "image = Image.open('/content/greycube.jpg')\n",
    "image"
   ]
  },
  {
   "attachments": {},
   "cell_type": "markdown",
   "metadata": {},
   "source": [
    "#### Convert the image to grayscale"
   ]
  },
  {
   "cell_type": "code",
   "execution_count": null,
   "metadata": {},
   "outputs": [],
   "source": [
    "grayscale_image = grayscale(image)\n",
    "grayscale_image"
   ]
  },
  {
   "attachments": {},
   "cell_type": "markdown",
   "metadata": {},
   "source": [
    "#### Perform edge detection using central difference with interpolation"
   ]
  },
  {
   "cell_type": "code",
   "execution_count": null,
   "metadata": {},
   "outputs": [],
   "source": [
    "edges = central_difference(grayscale_image)\n",
    "edges"
   ]
  },
  {
   "attachments": {},
   "cell_type": "markdown",
   "metadata": {},
   "source": [
    "#### Calculate the volume based on the number of edge pixels (Not Working Yet)\n"
   ]
  },
  {
   "cell_type": "code",
   "execution_count": null,
   "metadata": {},
   "outputs": [],
   "source": [
    "edge_pixels = edges.histogram()[-1]  # Get the number of white pixels (edges)\n",
    "edge_pixels"
   ]
  },
  {
   "cell_type": "code",
   "execution_count": null,
   "metadata": {},
   "outputs": [],
   "source": [
    "# # Assuming the cube is uniformly filled within the edges, calculate the volume\n",
    "volume_pixels = edge_pixels ** 3\n",
    "\n",
    "# # Print the estimated volume in pixel units\n",
    "print(\"Estimated Volume (in pixel units):\", volume_pixels)"
   ]
  }
 ],
 "metadata": {
  "kernelspec": {
   "display_name": "base",
   "language": "python",
   "name": "python3"
  },
  "language_info": {
   "name": "python",
   "version": "3.9.7"
  },
  "orig_nbformat": 4
 },
 "nbformat": 4,
 "nbformat_minor": 2
}
