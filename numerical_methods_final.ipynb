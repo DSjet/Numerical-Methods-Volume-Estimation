{
 "cells": [
  {
   "attachments": {},
   "cell_type": "markdown",
   "metadata": {},
   "source": [
    "# Numerical Methods Final Project: Object Volume Determination through Picture Analysis\n",
    "\n",
    "## Introduction\n",
    "\n",
    "Welcome to our Numerical Methods Final Project, where we try to determine object volume through picture analysis using numerical methods. In this project, we aim to develop a computational approach to estimate the volume of three-dimensional objects based on their two-dimensional images. By leveraging various numerical techniques, we can estimate the volume of an object.\n",
    "\n",
    "## Team Members\n",
    "\n",
    "1. **Putu Arva Raysendriya Ersuputra** - 21/472606/PA/20312\n",
    "\n",
    "2. **Antonius Teddy Kurniawan** - 21/472874/PA/20352\n",
    "\n",
    "3. **Peter Johan Arkadhira Setiabudi** - 21/475025/PA/20510\n",
    "\n",
    "4. **Henzel Theodore Putra** -21/475040/PA/20516 "
   ]
  },
  {
   "attachments": {},
   "cell_type": "markdown",
   "metadata": {},
   "source": [
    "### Import Necessary Library"
   ]
  },
  {
   "cell_type": "code",
   "execution_count": 180,
   "metadata": {},
   "outputs": [],
   "source": [
    "from PIL import Image"
   ]
  },
  {
   "attachments": {},
   "cell_type": "markdown",
   "metadata": {},
   "source": [
    "### Define Necessary Functions"
   ]
  },
  {
   "cell_type": "code",
   "execution_count": 181,
   "metadata": {},
   "outputs": [],
   "source": [
    "def grayscale(image):\n",
    "    # Convert the image to grayscale\n",
    "    return image.convert('L')"
   ]
  },
  {
   "cell_type": "code",
   "execution_count": 182,
   "metadata": {},
   "outputs": [],
   "source": [
    "def bilinear_interpolation(image, x, y):\n",
    "    width, height = image.size\n",
    "\n",
    "    if x < 0 or x >= width or y < 0 or y >= height:\n",
    "        return 0\n",
    "\n",
    "    x1, y1 = int(x), int(y)\n",
    "    x2, y2 = x1 + 1, y1 + 1\n",
    "\n",
    "    p11 = image.getpixel((x1, y1))\n",
    "    p12 = image.getpixel((x1, y2))\n",
    "    p21 = image.getpixel((x2, y1))\n",
    "    p22 = image.getpixel((x2, y2))\n",
    "\n",
    "    value = (p11 * (x2 - x) * (y2 - y) +\n",
    "             p21 * (x - x1) * (y2 - y) +\n",
    "             p12 * (x2 - x) * (y - y1) +\n",
    "             p22 * (x - x1) * (y - y1))\n",
    "\n",
    "    return value"
   ]
  },
  {
   "cell_type": "code",
   "execution_count": 183,
   "metadata": {},
   "outputs": [],
   "source": [
    "def central_difference(image):\n",
    "    width, height = image.size\n",
    "\n",
    "    # Create an empty output image with RGB mode\n",
    "    output = Image.new('RGB', (width, height))\n",
    "\n",
    "    # Compute the maximum gradient magnitude for scaling\n",
    "    max_magnitude = 0.0\n",
    "    for x in range(1, width - 2):\n",
    "        for y in range(1, height - 2):\n",
    "            sub_x = x + 0.5\n",
    "            sub_y = y + 0.5\n",
    "            dx = bilinear_interpolation(image, sub_x + 1, sub_y) - bilinear_interpolation(image, sub_x - 1, sub_y)\n",
    "            dy = bilinear_interpolation(image, sub_x, sub_y + 1) - bilinear_interpolation(image, sub_x, sub_y - 1)\n",
    "            magnitude = abs((dx * 2 + dy * 2) ** 0.5)\n",
    "            if magnitude > max_magnitude:\n",
    "                max_magnitude = magnitude\n",
    "\n",
    "    # Apply central difference to compute the gradients and set pixel values in the output image\n",
    "    for x in range(1, width - 2):\n",
    "        for y in range(1, height - 2):\n",
    "            sub_x = x + 0.5\n",
    "            sub_y = y + 0.5\n",
    "            dx = bilinear_interpolation(image, sub_x + 1, sub_y) - bilinear_interpolation(image, sub_x - 1, sub_y)\n",
    "            dy = bilinear_interpolation(image, sub_x, sub_y + 1) - bilinear_interpolation(image, sub_x, sub_y - 1)\n",
    "            magnitude = abs((dx * 2 + dy * 2) ** 0.5)\n",
    "\n",
    "            # Scale the gradient magnitude to cover the full range of the color channel\n",
    "            intensity = int((magnitude / max_magnitude) * 255)\n",
    "\n",
    "            # Set the pixel value in the output image with the enhanced color\n",
    "            output.putpixel((x, y), (intensity, intensity, intensity))\n",
    "\n",
    "    return output\n",
    "\n"
   ]
  },
  {
   "attachments": {},
   "cell_type": "markdown",
   "metadata": {},
   "source": [
    "#### Load the image"
   ]
  },
  {
   "cell_type": "code",
   "execution_count": 184,
   "metadata": {},
   "outputs": [
    {
     "data": {
      "image/png": "[encoded data removed]",
      "text/plain": [
       "<PIL.PngImagePlugin.PngImageFile image mode=RGBA size=504x472 at 0x1C70EE52A00>"
      ]
     },
     "execution_count": 184,
     "metadata": {},
     "output_type": "execute_result"
    }
   ],
   "source": [
    "image = Image.open('./images/anothergreencube.png')\n",
    "image"
   ]
  },
  {
   "attachments": {},
   "cell_type": "markdown",
   "metadata": {},
   "source": [
    "#### Convert the image to grayscale"
   ]
  },
  {
   "cell_type": "code",
   "execution_count": 185,
   "metadata": {},
   "outputs": [
    {
     "data": {
      "image/png": "[encoded data removed]",
      "text/plain": [
       "<PIL.Image.Image image mode=L size=504x472 at 0x1C710D2ADF0>"
      ]
     },
     "execution_count": 185,
     "metadata": {},
     "output_type": "execute_result"
    }
   ],
   "source": [
    "grayscale_image = grayscale(image)\n",
    "grayscale_image"
   ]
  },
  {
   "attachments": {},
   "cell_type": "markdown",
   "metadata": {},
   "source": [
    "#### Perform edge detection using central difference with interpolation"
   ]
  },
  {
   "cell_type": "code",
   "execution_count": 186,
   "metadata": {},
   "outputs": [
    {
     "data": {
      "image/png": "[encoded data removed]",
      "text/plain": [
       "<PIL.Image.Image image mode=RGB size=504x472 at 0x1C710D3B220>"
      ]
     },
     "execution_count": 186,
     "metadata": {},
     "output_type": "execute_result"
    }
   ],
   "source": [
    "edges = central_difference(grayscale_image)\n",
    "edges"
   ]
  },
  {
   "attachments": {},
   "cell_type": "markdown",
   "metadata": {},
   "source": [
    "#### Calculate the volume based on the number of edge pixels (Not Working Yet)\n"
   ]
  },
  {
   "cell_type": "code",
   "execution_count": 187,
   "metadata": {},
   "outputs": [],
   "source": [
    "def calculate_volume(edge_pixels, pixel_size, cube_size):\n",
    "    # Calculate the volume based on the number of edge pixels\n",
    "    volume_pixels = edge_pixels ** 3\n",
    "    \n",
    "    # Calculate the volume in the desired units\n",
    "    volume = volume_pixels * (pixel_size ** 3) * (cube_size ** 3)\n",
    "    \n",
    "    return volume"
   ]
  },
  {
   "cell_type": "code",
   "execution_count": 188,
   "metadata": {},
   "outputs": [
    {
     "data": {
      "text/plain": [
       "14"
      ]
     },
     "execution_count": 188,
     "metadata": {},
     "output_type": "execute_result"
    }
   ],
   "source": [
    "edge_pixels = edges.histogram()[-1]  # Get the number of white pixels (edges)\n",
    "edge_pixels"
   ]
  },
  {
   "cell_type": "code",
   "execution_count": 189,
   "metadata": {},
   "outputs": [
    {
     "name": "stdout",
     "output_type": "stream",
     "text": [
      "Estimated Volume (in pixel units): 2744\n"
     ]
    }
   ],
   "source": [
    "# # Assuming the cube is uniformly filled within the edges, calculate the volume\n",
    "volume_pixels = edge_pixels ** 3\n",
    "\n",
    "# # Print the estimated volume in pixel units\n",
    "print(\"Estimated Volume (in pixel units):\", volume_pixels)"
   ]
  }
 ],
 "metadata": {
  "kernelspec": {
   "display_name": "base",
   "language": "python",
   "name": "python3"
  },
  "language_info": {
   "codemirror_mode": {
    "name": "ipython",
    "version": 3
   },
   "file_extension": ".py",
   "mimetype": "text/x-python",
   "name": "python",
   "nbconvert_exporter": "python",
   "pygments_lexer": "ipython3",
   "version": "3.9.7"
  },
  "orig_nbformat": 4
 },
 "nbformat": 4,
 "nbformat_minor": 2
}
